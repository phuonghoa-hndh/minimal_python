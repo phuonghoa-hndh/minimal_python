{
  "nbformat": 4,
  "nbformat_minor": 0,
  "metadata": {
    "colab": {
      "provenance": []
    },
    "kernelspec": {
      "name": "python3",
      "display_name": "Python 3"
    },
    "language_info": {
      "name": "python"
    }
  },
  "cells": [
    {
      "cell_type": "markdown",
      "source": [
        "## **Chapter 2: Learn to store data**\n",
        "\n"
      ],
      "metadata": {
        "id": "_tmeK3PtZipK"
      }
    },
    {
      "cell_type": "markdown",
      "source": [
        "**State**: State method is Behavioral Design Pattern that allows an object to change its behavior when there occurs a change in its internal state. ![image.png](data:image/png;base64,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)"
      ],
      "metadata": {
        "id": "RfiJ_WblZks8"
      }
    },
    {
      "cell_type": "code",
      "source": [
        "import time\n",
        "now = time.time()\n",
        "now"
      ],
      "metadata": {
        "colab": {
          "base_uri": "https://localhost:8080/"
        },
        "id": "wqZQG84ctrrv",
        "outputId": "ea8416dc-426b-476e-8044-4c4a3b1b7995"
      },
      "execution_count": 2,
      "outputs": [
        {
          "output_type": "execute_result",
          "data": {
            "text/plain": [
              "1711606813.284432"
            ]
          },
          "metadata": {},
          "execution_count": 2
        }
      ]
    },
    {
      "cell_type": "code",
      "source": [
        "time.time() - now"
      ],
      "metadata": {
        "colab": {
          "base_uri": "https://localhost:8080/"
        },
        "id": "rU3z6-FqtvLE",
        "outputId": "ae977c36-5379-44b5-fbc2-14e5eb918acf"
      },
      "execution_count": 3,
      "outputs": [
        {
          "output_type": "execute_result",
          "data": {
            "text/plain": [
              "7.017105579376221"
            ]
          },
          "metadata": {},
          "execution_count": 3
        }
      ]
    },
    {
      "cell_type": "markdown",
      "source": [
        "* **List:** Represents an ordered collection of items, which can be of different data types, enclosed within square brackets [].\n"
      ],
      "metadata": {
        "id": "JRcmEs3et7F6"
      }
    },
    {
      "cell_type": "code",
      "source": [
        "example_list = [\"apple\", \"banana\", \"cherry\", \"12324\", \"54654\", \"56565\"]\n",
        "print(example_list[0])\n",
        "print(example_list.index('banana'))\n",
        "\n",
        "# List comprehensions\n",
        "#numeric = [item for item in items if item.isnumeric()]\n",
        "numeric = []\n",
        "for item in example_list:\n",
        "  if item.isnumeric():\n",
        "    numeric.append(item)\n",
        "print(numeric)"
      ],
      "metadata": {
        "colab": {
          "base_uri": "https://localhost:8080/"
        },
        "id": "tBZKeNxXud7d",
        "outputId": "f02c5ea1-18be-4833-ff24-e47de35d3ace"
      },
      "execution_count": 18,
      "outputs": [
        {
          "output_type": "stream",
          "name": "stdout",
          "text": [
            "apple\n",
            "1\n",
            "['12324', '54654', '56565']\n"
          ]
        }
      ]
    },
    {
      "cell_type": "code",
      "source": [],
      "metadata": {
        "colab": {
          "base_uri": "https://localhost:8080/"
        },
        "id": "8V3SysqM0q7C",
        "outputId": "eac1bc66-13d0-4fab-fcdb-aa8966461e74"
      },
      "execution_count": 15,
      "outputs": [
        {
          "output_type": "stream",
          "name": "stdout",
          "text": [
            "[]\n"
          ]
        }
      ]
    },
    {
      "cell_type": "markdown",
      "source": [
        "* **Tuple:** Similar to lists but ***immutable***, meaning their elements cannot be modified once defined, once created, items can’t be removed or added,enclosed within parentheses ().\n",
        "- There are only two methods for tuples: count() and index()"
      ],
      "metadata": {
        "id": "78z4Se5ay7AA"
      }
    },
    {
      "cell_type": "code",
      "source": [
        "example_tuple = (\"apple\", \"banana\", \"cherry\")\n",
        "print(example_tuple.index('cherry'))\n",
        "print(example_tuple[0])"
      ],
      "metadata": {
        "colab": {
          "base_uri": "https://localhost:8080/"
        },
        "id": "iEAxW6-fyczI",
        "outputId": "8b12cff2-1838-483a-f4a9-6e4475b2b0ef"
      },
      "execution_count": 11,
      "outputs": [
        {
          "output_type": "stream",
          "name": "stdout",
          "text": [
            "2\n",
            "apple\n"
          ]
        }
      ]
    },
    {
      "cell_type": "markdown",
      "source": [
        "* **Dictionary (dict):** Represents a collection of key-value pairs, enclosed within curly braces {}."
      ],
      "metadata": {
        "id": "kxhYBgF9y5gR"
      }
    },
    {
      "cell_type": "code",
      "source": [
        "example_dict ={\n",
        "    'alfredo': '+3 6786770000',\n",
        "    'noah': '+3 7077779191',\n",
        "    'python' : '+84 215662164'\n",
        "}\n",
        "for name in example_dict.keys():\n",
        "    print(name)\n",
        "for phone in example_dict.values():\n",
        "    print(phone)"
      ],
      "metadata": {
        "colab": {
          "base_uri": "https://localhost:8080/"
        },
        "id": "8dRmyHFlz9ro",
        "outputId": "c180b64f-6fef-4700-b502-b9195add1710"
      },
      "execution_count": 20,
      "outputs": [
        {
          "output_type": "stream",
          "name": "stdout",
          "text": [
            "alfredo\n",
            "noah\n",
            "python\n",
            "+3 6786770000\n",
            "+3 7077779191\n",
            "+84 215662164\n"
          ]
        }
      ]
    },
    {
      "cell_type": "markdown",
      "source": [
        "**Sets**: are only useful when trying to ensure unique items are preserved. Before sets where available, it was common to process items and check if they exist in a list (or dictionary) before adding them.\n",
        "- Can’t index them like lists and tuples, but can iterate over them without issues.\n",
        "- Ensure there aren’t any duplicates. If that is not needed, a list is preferable."
      ],
      "metadata": {
        "id": "nM1k_vjY2IRu"
      }
    },
    {
      "cell_type": "code",
      "source": [
        "unique = []\n",
        "for name in ['alfredo', 'alfredo', 'noah', 'alfredo']:\n",
        "     if name not in unique:\n",
        "         unique.append(name)\n",
        "print(unique)"
      ],
      "metadata": {
        "colab": {
          "base_uri": "https://localhost:8080/"
        },
        "id": "s7ayYJzr2OHI",
        "outputId": "ccdcbc06-b7d5-4c6f-cfcf-1ee9bfeb7cc0"
      },
      "execution_count": 21,
      "outputs": [
        {
          "output_type": "stream",
          "name": "stdout",
          "text": [
            "['alfredo', 'noah']\n"
          ]
        }
      ]
    },
    {
      "cell_type": "markdown",
      "source": [
        "# **Chapter 3: Learn to create functions**"
      ],
      "metadata": {
        "id": "JPbgprik2t2e"
      }
    },
    {
      "cell_type": "code",
      "source": [
        "#Function With No Input or Return\n",
        "def greet():\n",
        "    print(\"Hello, world!\")\n",
        "\n",
        "greet()\n"
      ],
      "metadata": {
        "colab": {
          "base_uri": "https://localhost:8080/"
        },
        "id": "1UBTcQWz2WA7",
        "outputId": "1eca15eb-764a-490e-828d-b1d6f66ec231"
      },
      "execution_count": 22,
      "outputs": [
        {
          "output_type": "stream",
          "name": "stdout",
          "text": [
            "Hello, world!\n"
          ]
        }
      ]
    },
    {
      "cell_type": "code",
      "source": [
        "#Function That Returns Without Accepting Input\n",
        "def square(num):\n",
        "    result = num ** 2\n",
        "    print(\"Square of\", num, \"is\", result)\n",
        "\n",
        "square(5)\n"
      ],
      "metadata": {
        "colab": {
          "base_uri": "https://localhost:8080/"
        },
        "id": "RtlLkr6L3sqX",
        "outputId": "074fc098-0af0-4e38-ec37-75af1153d4b9"
      },
      "execution_count": 23,
      "outputs": [
        {
          "output_type": "stream",
          "name": "stdout",
          "text": [
            "Square of 5 is 25\n"
          ]
        }
      ]
    },
    {
      "cell_type": "code",
      "source": [
        "#Function That That Accepts Input Without Return\n",
        "def input_marco(name):\n",
        "    if name == \"Marco\":\n",
        "        print(\"Polo\")\n",
        "    else:\n",
        "        print(\"Nice try. No Cigar!\")\n",
        "\n",
        "input_marco(\"Marco\")\n"
      ],
      "metadata": {
        "colab": {
          "base_uri": "https://localhost:8080/"
        },
        "id": "_mD_nrWi33DS",
        "outputId": "b4827b6f-de45-422c-8939-da88145eedfb"
      },
      "execution_count": 25,
      "outputs": [
        {
          "output_type": "stream",
          "name": "stdout",
          "text": [
            "Polo\n"
          ]
        }
      ]
    },
    {
      "cell_type": "code",
      "source": [
        "input_marco(\"Bob\")"
      ],
      "metadata": {
        "colab": {
          "base_uri": "https://localhost:8080/"
        },
        "id": "4l5Dk8-9374j",
        "outputId": "d1598fda-5149-4341-ae88-843b125a75d1"
      },
      "execution_count": 26,
      "outputs": [
        {
          "output_type": "stream",
          "name": "stdout",
          "text": [
            "Nice try. No Cigar!\n"
          ]
        }
      ]
    },
    {
      "cell_type": "code",
      "source": [
        "result = input_marco(\"Jenny\")\n",
        "print(result)"
      ],
      "metadata": {
        "colab": {
          "base_uri": "https://localhost:8080/"
        },
        "id": "PEumwlJq4HJD",
        "outputId": "8eb7d004-d643-40e7-8921-e433f133d729"
      },
      "execution_count": 27,
      "outputs": [
        {
          "output_type": "stream",
          "name": "stdout",
          "text": [
            "Nice try. No Cigar!\n",
            "None\n"
          ]
        }
      ]
    },
    {
      "cell_type": "markdown",
      "source": [
        "# **Chapter 4: Test your functions**\n",
        "\n",
        "The key reasons in testing software development include:\n",
        "\n",
        "* Catching errors early\n",
        "* Ensuring proper behavior of code\n",
        "* Preventing user-facing issues\n",
        "* Enhancing confidence in the code\n",
        "* Eliminating common problems reasonably quickly\n",
        "\n",
        "\n",
        "\n",
        "\n"
      ],
      "metadata": {
        "id": "jSNcNSje4Nb1"
      }
    },
    {
      "cell_type": "code",
      "source": [
        "pip install pytest"
      ],
      "metadata": {
        "colab": {
          "base_uri": "https://localhost:8080/"
        },
        "id": "lBcZaND99XM9",
        "outputId": "b4822d17-e4dc-4f41-a452-663836e70967"
      },
      "execution_count": 28,
      "outputs": [
        {
          "output_type": "stream",
          "name": "stdout",
          "text": [
            "Requirement already satisfied: pytest in /usr/local/lib/python3.10/dist-packages (7.4.4)\n",
            "Requirement already satisfied: iniconfig in /usr/local/lib/python3.10/dist-packages (from pytest) (2.0.0)\n",
            "Requirement already satisfied: packaging in /usr/local/lib/python3.10/dist-packages (from pytest) (24.0)\n",
            "Requirement already satisfied: pluggy<2.0,>=0.12 in /usr/local/lib/python3.10/dist-packages (from pytest) (1.4.0)\n",
            "Requirement already satisfied: exceptiongroup>=1.0.0rc8 in /usr/local/lib/python3.10/dist-packages (from pytest) (1.2.0)\n",
            "Requirement already satisfied: tomli>=1.0.0 in /usr/local/lib/python3.10/dist-packages (from pytest) (2.0.1)\n"
          ]
        }
      ]
    },
    {
      "cell_type": "code",
      "source": [],
      "metadata": {
        "colab": {
          "base_uri": "https://localhost:8080/"
        },
        "id": "VXAKEwsBHJ8K",
        "outputId": "9001a71d-851b-48b7-f513-c9c1a3c8906c"
      },
      "execution_count": 31,
      "outputs": [
        {
          "output_type": "stream",
          "name": "stdout",
          "text": [
            "Collecting python-math\n",
            "  Downloading python_math-0.0.1-py3-none-any.whl (2.4 kB)\n",
            "Installing collected packages: python-math\n",
            "Successfully installed python-math-0.0.1\n"
          ]
        }
      ]
    },
    {
      "cell_type": "code",
      "source": [],
      "metadata": {
        "colab": {
          "base_uri": "https://localhost:8080/",
          "height": 383
        },
        "id": "rmyKWsQUGlK8",
        "outputId": "d17cb0de-1026-4c82-8811-ccd57f8971fb"
      },
      "execution_count": 32,
      "outputs": [
        {
          "output_type": "error",
          "ename": "ModuleNotFoundError",
          "evalue": "No module named 'math_operations'",
          "traceback": [
            "\u001b[0;31m---------------------------------------------------------------------------\u001b[0m",
            "\u001b[0;31mModuleNotFoundError\u001b[0m                       Traceback (most recent call last)",
            "\u001b[0;32m<ipython-input-32-2e440f0b8fb2>\u001b[0m in \u001b[0;36m<cell line: 1>\u001b[0;34m()\u001b[0m\n\u001b[0;32m----> 1\u001b[0;31m \u001b[0;32mimport\u001b[0m \u001b[0mmath_operations\u001b[0m\u001b[0;34m\u001b[0m\u001b[0;34m\u001b[0m\u001b[0m\n\u001b[0m\u001b[1;32m      2\u001b[0m \u001b[0;34m\u001b[0m\u001b[0m\n\u001b[1;32m      3\u001b[0m \u001b[0;32mdef\u001b[0m \u001b[0mtest_add\u001b[0m\u001b[0;34m(\u001b[0m\u001b[0;34m)\u001b[0m\u001b[0;34m:\u001b[0m\u001b[0;34m\u001b[0m\u001b[0;34m\u001b[0m\u001b[0m\n\u001b[1;32m      4\u001b[0m     \u001b[0;32massert\u001b[0m \u001b[0mmath_operations\u001b[0m\u001b[0;34m.\u001b[0m\u001b[0madd\u001b[0m\u001b[0;34m(\u001b[0m\u001b[0;36m3\u001b[0m\u001b[0;34m,\u001b[0m \u001b[0;36m5\u001b[0m\u001b[0;34m)\u001b[0m \u001b[0;34m==\u001b[0m \u001b[0;36m8\u001b[0m\u001b[0;34m\u001b[0m\u001b[0;34m\u001b[0m\u001b[0m\n\u001b[1;32m      5\u001b[0m     \u001b[0;32massert\u001b[0m \u001b[0mmath_operations\u001b[0m\u001b[0;34m.\u001b[0m\u001b[0madd\u001b[0m\u001b[0;34m(\u001b[0m\u001b[0;34m-\u001b[0m\u001b[0;36m1\u001b[0m\u001b[0;34m,\u001b[0m \u001b[0;36m1\u001b[0m\u001b[0;34m)\u001b[0m \u001b[0;34m==\u001b[0m \u001b[0;36m0\u001b[0m\u001b[0;34m\u001b[0m\u001b[0;34m\u001b[0m\u001b[0m\n",
            "\u001b[0;31mModuleNotFoundError\u001b[0m: No module named 'math_operations'",
            "",
            "\u001b[0;31m---------------------------------------------------------------------------\u001b[0;32m\nNOTE: If your import is failing due to a missing package, you can\nmanually install dependencies using either !pip or !apt.\n\nTo view examples of installing some common dependencies, click the\n\"Open Examples\" button below.\n\u001b[0;31m---------------------------------------------------------------------------\u001b[0m\n"
          ],
          "errorDetails": {
            "actions": [
              {
                "action": "open_url",
                "actionText": "Open Examples",
                "url": "/notebooks/snippets/importing_libraries.ipynb"
              }
            ]
          }
        }
      ]
    },
    {
      "cell_type": "code",
      "source": [
        "pytest"
      ],
      "metadata": {
        "id": "8v_ETVY8HFpb"
      },
      "execution_count": null,
      "outputs": []
    }
  ]
}